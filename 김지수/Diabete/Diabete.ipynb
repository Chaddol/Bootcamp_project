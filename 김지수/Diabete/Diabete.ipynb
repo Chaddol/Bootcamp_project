{
 "cells": [
  {
   "cell_type": "code",
   "execution_count": 1,
   "metadata": {},
   "outputs": [],
   "source": [
    "import pandas as pd\n",
    "import tensorflow as tf\n",
    "import matplotlib.pyplot as plt\n",
    "import numpy as np\n",
    "from sklearn.model_selection import train_test_split"
   ]
  },
  {
   "attachments": {},
   "cell_type": "markdown",
   "metadata": {},
   "source": [
    "# 비만의 환경적 요인\n",
    "1. 비만: 비만 상태가 계속되면 인슐린이 혈당을 잘 낮추지 못하고, 췌장의 인슐린 분비능도 떨어져 당뇨병이 생긴다\n",
    "\n",
    "\n",
    "2. 노화: 당뇨병은 중년 이후에 많이 발생하며, 연령이 높아질 수록 발병률이 높아진다.\n",
    "3. 식생활: 탄수화물과 지방을 과다 섭취하면 체중이 늘고 당뇨병이 생긴다.\n",
    "4. 운동 부족: 비만을 초래하고, 근육을 약화시키며, 저항력이 떨어진다.\n",
    "5. 스트레스: 부신피질호르몬 분비를 늘린다.\n",
    "6. 임신성 당뇨병: 4kg 이상의 아이를 출산한 병력이 있으면 임신성 당뇨병이 생길 가능성이 있다.\n",
    "7. 고혈압: 보통 당뇨병과 동반된다.\n",
    "8. 이상지질혈증: 보통 당뇨병과 동반된다. 고콜레스테롤혈증, 고중성지방혈증\n",
    "\n",
    "#### diabetes _ 012 _ health _ indicators _ BRFSS2015.csv \n",
    "-235,680개의 data.\n",
    "\n",
    "-0은 당뇨 없음 or 임산부, 1은 당뇨 전단계, 2는 당뇨.\n",
    "\n",
    "-Feature 21개, 데이터 불균형 있음\n",
    "\n",
    "#### diabetes _ binary _ 5050split _ health _ indicators _ BRFSS2015.csv \n",
    "-70,692개의 data.\n",
    "\n",
    "-0은 당뇨 없음, 1은 당뇨.\n",
    "\n",
    "-Feature 21개, 데이터 불균형 없음\n",
    "\n",
    "#### diabetes _ binary _ health _ indicators _ BRFSS2015.csv\n",
    "-235,680개의 data. \n",
    "\n",
    "-0은 당뇨 없음, 1은 당뇨.\n",
    "\n",
    "-Feature 21개, 데이터 불균형 있음"
   ]
  },
  {
   "cell_type": "code",
   "execution_count": 2,
   "metadata": {},
   "outputs": [],
   "source": [
    "data = pd.read_csv('Data\\diabetes_012_health_indicators_BRFSS2015.csv')"
   ]
  },
  {
   "cell_type": "code",
   "execution_count": 3,
   "metadata": {},
   "outputs": [],
   "source": [
    "df = pd.DataFrame(data)\n",
    "# df['Age'] = df.apply(lambda x: 18 if x.Age == 1 else (x.Age*5+15), axis=1)"
   ]
  },
  {
   "cell_type": "code",
   "execution_count": 4,
   "metadata": {},
   "outputs": [
    {
     "data": {
      "text/plain": [
       "Index(['Diabetes_012', 'HighBP', 'HighChol', 'CholCheck', 'BMI', 'Smoker',\n",
       "       'Stroke', 'HeartDiseaseorAttack', 'PhysActivity', 'Fruits', 'Veggies',\n",
       "       'HvyAlcoholConsump', 'AnyHealthcare', 'NoDocbcCost', 'GenHlth',\n",
       "       'MentHlth', 'PhysHlth', 'DiffWalk', 'Sex', 'Age', 'Education',\n",
       "       'Income'],\n",
       "      dtype='object')"
      ]
     },
     "execution_count": 4,
     "metadata": {},
     "output_type": "execute_result"
    }
   ],
   "source": [
    "df.columns"
   ]
  },
  {
   "attachments": {},
   "cell_type": "markdown",
   "metadata": {},
   "source": [
    "## 주목해야할 Column\n",
    "\n",
    "1. HighPB: 당뇨와 함께 나타나는 대표적인 질병\n",
    "\n",
    "2. HighChol: 이상지질혈증\n",
    "\n",
    "3. BMI: 당뇨병의 대표적인 원인\n",
    "\n",
    "4. Smoker: 흡연이 당뇨의 원인은 아니다. 따라서 당뇨 예측에는 고려하지 않는다.\n",
    "\n",
    "5. Stroke: 당뇨병 대표 합병증. 뇌졸중을 겪고나서 당뇨병임을 아는 경우도 있다고 한다.\n",
    "\n",
    "6. HeartDiseaseorAttack: Stroke와 마찬가지.\n",
    "\n",
    "7. PhysActivity: 신체적 활동은 당뇨병 예방 및 치료에 가장 중요한 요인 중 하나.\n",
    "\n",
    "8. Fruits: 탄수화물 섭취가 많으면 당뇨에 걸릴 가능성이 높아진다.\n",
    "\n",
    "9. Age: 중년 이후 당뇨병에 걸릴 확률이 높아진다."
   ]
  },
  {
   "cell_type": "code",
   "execution_count": 5,
   "metadata": {},
   "outputs": [
    {
     "data": {
      "text/plain": [
       "((253680, 21), (253680,))"
      ]
     },
     "execution_count": 5,
     "metadata": {},
     "output_type": "execute_result"
    }
   ],
   "source": [
    "x = df.iloc[:,1:].to_numpy()\n",
    "y = df.iloc[:,0].to_numpy()\n",
    "x.shape, y.shape"
   ]
  },
  {
   "cell_type": "code",
   "execution_count": 6,
   "metadata": {},
   "outputs": [
    {
     "name": "stdout",
     "output_type": "stream",
     "text": [
      "Ratio of zeros: 84.24116997792494 %\n"
     ]
    }
   ],
   "source": [
    "p = 1 - (np.count_nonzero(y)/x.shape[0])\n",
    "print(f'Ratio of zeros: {p*100} %')"
   ]
  },
  {
   "cell_type": "code",
   "execution_count": 7,
   "metadata": {},
   "outputs": [],
   "source": [
    "x_train, x_temp, y_train, y_temp = train_test_split(x, y, random_state=1, train_size=0.8)\n",
    "x_test, x_valid, y_test, y_valid = train_test_split(x_temp, y_temp, random_state=1, train_size=0.5)"
   ]
  },
  {
   "cell_type": "code",
   "execution_count": 8,
   "metadata": {},
   "outputs": [],
   "source": [
    "batch_size = 64\n",
    "epochs = 30"
   ]
  },
  {
   "cell_type": "code",
   "execution_count": 9,
   "metadata": {},
   "outputs": [],
   "source": [
    "model = tf.keras.Sequential()\n",
    "model.add(tf.keras.layers.Dense(128, activation=\"relu\", input_shape=(21,)))\n",
    "model.add(tf.keras.layers.Dense(128, activation=\"relu\"))\n",
    "model.add(tf.keras.layers.Dense(128, activation=\"relu\"))\n",
    "model.add(tf.keras.layers.Dense(3, activation='softmax'))\n",
    "\n",
    "model.compile(optimizer=tf.keras.optimizers.Adam(learning_rate=0.0001),\n",
    "               loss='sparse_categorical_crossentropy',\n",
    "               metrics=['accuracy'])\n",
    "model.summary()"
   ]
  },
  {
   "cell_type": "code",
   "execution_count": null,
   "metadata": {},
   "outputs": [
    {
     "name": "stdout",
     "output_type": "stream",
     "text": [
      "Epoch 1/30\n",
      "3171/3171 [==============================] - 16s 5ms/step - loss: 0.4292 - accuracy: 0.8436 - val_loss: 0.4062 - val_accuracy: 0.8467\n",
      "Epoch 2/30\n",
      "3171/3171 [==============================] - 15s 5ms/step - loss: 0.4094 - accuracy: 0.8461 - val_loss: 0.4083 - val_accuracy: 0.8469\n",
      "Epoch 3/30\n",
      "3171/3171 [==============================] - 17s 5ms/step - loss: 0.4060 - accuracy: 0.8468 - val_loss: 0.4041 - val_accuracy: 0.8472\n",
      "Epoch 4/30\n",
      "3171/3171 [==============================] - 16s 5ms/step - loss: 0.4039 - accuracy: 0.8469 - val_loss: 0.3992 - val_accuracy: 0.8492\n",
      "Epoch 5/30\n",
      "3171/3171 [==============================] - 16s 5ms/step - loss: 0.4023 - accuracy: 0.8475 - val_loss: 0.3982 - val_accuracy: 0.8481\n",
      "Epoch 6/30\n",
      "3171/3171 [==============================] - 16s 5ms/step - loss: 0.4012 - accuracy: 0.8476 - val_loss: 0.4012 - val_accuracy: 0.8475\n",
      "Epoch 7/30\n",
      "3171/3171 [==============================] - 16s 5ms/step - loss: 0.4000 - accuracy: 0.8478 - val_loss: 0.3958 - val_accuracy: 0.8486\n",
      "Epoch 8/30\n",
      "3171/3171 [==============================] - 16s 5ms/step - loss: 0.3995 - accuracy: 0.8479 - val_loss: 0.3949 - val_accuracy: 0.8492\n",
      "Epoch 9/30\n",
      "3171/3171 [==============================] - 16s 5ms/step - loss: 0.3986 - accuracy: 0.8479 - val_loss: 0.3970 - val_accuracy: 0.8485\n",
      "Epoch 10/30\n",
      "3171/3171 [==============================] - 15s 5ms/step - loss: 0.3980 - accuracy: 0.8482 - val_loss: 0.3940 - val_accuracy: 0.8493\n",
      "Epoch 11/30\n",
      "3171/3171 [==============================] - 17s 5ms/step - loss: 0.3976 - accuracy: 0.8483 - val_loss: 0.3973 - val_accuracy: 0.8480\n",
      "Epoch 12/30\n",
      "3171/3171 [==============================] - 17s 5ms/step - loss: 0.3971 - accuracy: 0.8487 - val_loss: 0.3931 - val_accuracy: 0.8503\n",
      "Epoch 13/30\n",
      "3171/3171 [==============================] - 17s 5ms/step - loss: 0.3966 - accuracy: 0.8488 - val_loss: 0.3928 - val_accuracy: 0.8504\n",
      "Epoch 14/30\n",
      "3171/3171 [==============================] - 17s 5ms/step - loss: 0.3965 - accuracy: 0.8487 - val_loss: 0.3916 - val_accuracy: 0.8497\n",
      "Epoch 15/30\n",
      "3171/3171 [==============================] - 17s 5ms/step - loss: 0.3960 - accuracy: 0.8485 - val_loss: 0.3928 - val_accuracy: 0.8501\n",
      "Epoch 16/30\n",
      "3171/3171 [==============================] - 17s 5ms/step - loss: 0.3958 - accuracy: 0.8490 - val_loss: 0.3933 - val_accuracy: 0.8490\n",
      "Epoch 17/30\n",
      "3171/3171 [==============================] - 17s 5ms/step - loss: 0.3956 - accuracy: 0.8489 - val_loss: 0.3939 - val_accuracy: 0.8487\n",
      "Epoch 18/30\n",
      "3171/3171 [==============================] - 17s 5ms/step - loss: 0.3955 - accuracy: 0.8489 - val_loss: 0.3952 - val_accuracy: 0.8495\n",
      "Epoch 19/30\n",
      "3171/3171 [==============================] - 17s 5ms/step - loss: 0.3953 - accuracy: 0.8489 - val_loss: 0.3906 - val_accuracy: 0.8499\n",
      "Epoch 20/30\n",
      "3171/3171 [==============================] - 17s 5ms/step - loss: 0.3949 - accuracy: 0.8493 - val_loss: 0.3921 - val_accuracy: 0.8507\n",
      "Epoch 21/30\n",
      "3171/3171 [==============================] - 17s 5ms/step - loss: 0.3947 - accuracy: 0.8492 - val_loss: 0.3910 - val_accuracy: 0.8506\n",
      "Epoch 22/30\n",
      "3171/3171 [==============================] - 17s 5ms/step - loss: 0.3946 - accuracy: 0.8494 - val_loss: 0.3921 - val_accuracy: 0.8503\n",
      "Epoch 23/30\n",
      "3171/3171 [==============================] - 17s 5ms/step - loss: 0.3946 - accuracy: 0.8486 - val_loss: 0.3934 - val_accuracy: 0.8495\n",
      "Epoch 24/30\n",
      "3171/3171 [==============================] - 17s 5ms/step - loss: 0.3944 - accuracy: 0.8493 - val_loss: 0.3902 - val_accuracy: 0.8507\n",
      "Epoch 25/30\n",
      "3171/3171 [==============================] - 17s 5ms/step - loss: 0.3941 - accuracy: 0.8492 - val_loss: 0.3901 - val_accuracy: 0.8505\n",
      "Epoch 26/30\n",
      "3171/3171 [==============================] - 17s 5ms/step - loss: 0.3937 - accuracy: 0.8496 - val_loss: 0.3908 - val_accuracy: 0.8497\n",
      "Epoch 27/30\n",
      "3171/3171 [==============================] - 17s 5ms/step - loss: 0.3937 - accuracy: 0.8493 - val_loss: 0.3909 - val_accuracy: 0.8502\n",
      "Epoch 28/30\n",
      "3171/3171 [==============================] - 17s 5ms/step - loss: 0.3936 - accuracy: 0.8492 - val_loss: 0.3908 - val_accuracy: 0.8509\n",
      "Epoch 29/30\n",
      "3171/3171 [==============================] - 17s 5ms/step - loss: 0.3932 - accuracy: 0.8496 - val_loss: 0.3907 - val_accuracy: 0.8502\n",
      "Epoch 30/30\n",
      "3171/3171 [==============================] - 18s 6ms/step - loss: 0.3935 - accuracy: 0.8493 - val_loss: 0.3919 - val_accuracy: 0.8493\n"
     ]
    }
   ],
   "source": [
    "history = model.fit(x_train,y_train,\n",
    "                    validation_data = (x_test,y_test),\n",
    "                    epochs = epochs,\n",
    "                    batch_size = batch_size\n",
    "                    )"
   ]
  },
  {
   "cell_type": "code",
   "execution_count": null,
   "metadata": {},
   "outputs": [
    {
     "data": {
      "image/png": "[encoded data removed]",
      "text/plain": [
       "<Figure size 1200x500 with 2 Axes>"
      ]
     },
     "metadata": {},
     "output_type": "display_data"
    }
   ],
   "source": [
    "loss = history.history['loss']\n",
    "epochs = range(1, len(loss)+1)\n",
    "\n",
    "plt.figure(figsize=(12, 5))\n",
    "plt.subplot(1, 2, 1)\n",
    "plt.title('Loss')\n",
    "plt.plot(epochs, history.history['loss'], 'b', label='train_loss')\n",
    "plt.plot(epochs, history.history['val_loss'], 'g', label='val_loss')\n",
    "plt.ylim([0,1.0])\n",
    "plt.grid(True)\n",
    "plt.xlabel('Epoch')\n",
    "plt.ylabel('Loss')\n",
    "plt.legend(loc='best')\n",
    "\n",
    "plt.subplot(1, 2, 2)\n",
    "plt.title('Accuray')\n",
    "plt.plot(epochs, history.history['accuracy'], 'b', label='train_accuracy')\n",
    "plt.plot(epochs, history.history['val_accuracy'], 'g', label='val_accuracy')\n",
    "plt.ylim([0.7,1])\n",
    "plt.grid(True)\n",
    "plt.ylabel('Accuracy')\n",
    "plt.legend(loc='best')\n",
    "plt.show()"
   ]
  },
  {
   "cell_type": "code",
   "execution_count": null,
   "metadata": {},
   "outputs": [
    {
     "name": "stdout",
     "output_type": "stream",
     "text": [
      "Validation_accuracy = 84.89829706717124 %\n"
     ]
    }
   ],
   "source": [
    "y_out = model.predict(x_valid)\n",
    "y_h = np.argmax(y_out, axis=1)\n",
    "y_valid = y_valid.astype(np.int64)\n",
    "cnt = 0\n",
    "\n",
    "for i in range(y_h.shape[0]):\n",
    "    if y_h[i] == y_valid[i]:\n",
    "        cnt += 1\n",
    "\n",
    "print(f'Validation_accuracy = {cnt/25368 * 100} %')"
   ]
  },
  {
   "cell_type": "code",
   "execution_count": null,
   "metadata": {},
   "outputs": [],
   "source": []
  }
 ],
 "metadata": {
  "kernelspec": {
   "display_name": "chaddol",
   "language": "python",
   "name": "python3"
  },
  "language_info": {
   "codemirror_mode": {
    "name": "ipython",
    "version": 3
   },
   "file_extension": ".py",
   "mimetype": "text/x-python",
   "name": "python",
   "nbconvert_exporter": "python",
   "pygments_lexer": "ipython3",
   "version": "3.9.15"
  },
  "orig_nbformat": 4,
  "vscode": {
   "interpreter": {
    "hash": "a687caacb10a844a55fefd3b5f8dd537474e79b4cd9a59a4e226ce1d72456a88"
   }
  }
 },
 "nbformat": 4,
 "nbformat_minor": 2
}
