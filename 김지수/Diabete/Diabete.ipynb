{
 "cells": [
  {
   "cell_type": "code",
   "execution_count": 2,
   "metadata": {},
   "outputs": [],
   "source": [
    "import pandas as pd\n",
    "import tensorflow as tf\n",
    "import matplotlib.pyplot as plt\n",
    "import numpy as np"
   ]
  },
  {
   "attachments": {},
   "cell_type": "markdown",
   "metadata": {},
   "source": [
    "# 비만의 환경적 요인\n",
    "1. 비만: 비만 상태가 계속되면 인슐린이 혈당을 잘 낮추지 못하고, 췌장의 인슐린 분비능도 떨어져 당뇨병이 생긴다\n",
    "\n",
    "\n",
    "2. 노화: 당뇨병은 중년 이후에 많이 발생하며, 연령이 높아질 수록 발병률이 높아진다.\n",
    "3. 식생활: 탄수화물과 지방을 과다 섭취하면 체중이 늘고 당뇨병이 생긴다.\n",
    "4. 운동 부족: 비만을 초래하고, 근육을 약화시키며, 저항력이 떨어진다.\n",
    "5. 스트레스: 부신피질호르몬 분비를 늘린다.\n",
    "6. 임신성 당뇨병: 4kg 이상의 아이를 출산한 병력이 있으면 임신성 당뇨병이 생길 가능성이 있다.\n",
    "7. 고혈압: 보통 당뇨병과 동반된다.\n",
    "8. 이상지질혈증: 보통 당뇨병과 동반된다. 고콜레스테롤혈증, 고중성지방혈증\n",
    "\n",
    "#### diabetes _ 012 _ health _ indicators _ BRFSS2015.csv \n",
    "-235,680개의 data.\n",
    "\n",
    "-0은 당뇨 없음 or 임산부, 1은 당뇨 전단계, 2는 당뇨.\n",
    "\n",
    "-Feature 21개, 데이터 불균형 있음\n",
    "\n",
    "#### diabetes _ binary _ 5050split _ health _ indicators _ BRFSS2015.csv \n",
    "-70,692개의 data.\n",
    "\n",
    "-0은 당뇨 없음, 1은 당뇨.\n",
    "\n",
    "-Feature 21개, 데이터 불균형 없음\n",
    "\n",
    "#### diabetes _ binary _ health _ indicators _ BRFSS2015.csv\n",
    "-235,680개의 data. \n",
    "\n",
    "-0은 당뇨 없음, 1은 당뇨.\n",
    "\n",
    "-Feature 21개, 데이터 불균형 있음"
   ]
  },
  {
   "cell_type": "code",
   "execution_count": 3,
   "metadata": {},
   "outputs": [],
   "source": [
    "data = pd.read_csv('Data\\diabetes_012_health_indicators_BRFSS2015.csv')"
   ]
  },
  {
   "cell_type": "code",
   "execution_count": 4,
   "metadata": {},
   "outputs": [],
   "source": [
    "df = pd.DataFrame(data)\n",
    "df['Age'] = df.apply(lambda x: 18 if x.Age == 1 else (x.Age*5+15), axis=1)"
   ]
  },
  {
   "cell_type": "code",
   "execution_count": 5,
   "metadata": {},
   "outputs": [
    {
     "data": {
      "text/plain": [
       "Index(['Diabetes_012', 'HighBP', 'HighChol', 'CholCheck', 'BMI', 'Smoker',\n",
       "       'Stroke', 'HeartDiseaseorAttack', 'PhysActivity', 'Fruits', 'Veggies',\n",
       "       'HvyAlcoholConsump', 'AnyHealthcare', 'NoDocbcCost', 'GenHlth',\n",
       "       'MentHlth', 'PhysHlth', 'DiffWalk', 'Sex', 'Age', 'Education',\n",
       "       'Income'],\n",
       "      dtype='object')"
      ]
     },
     "execution_count": 5,
     "metadata": {},
     "output_type": "execute_result"
    }
   ],
   "source": [
    "df.columns"
   ]
  },
  {
   "attachments": {},
   "cell_type": "markdown",
   "metadata": {},
   "source": [
    "## 주목해야할 Column\n",
    "\n",
    "1. HighPB: 당뇨와 함께 나타나는 대표적인 질병\n",
    "\n",
    "2. HighChol: 이상지질혈증\n",
    "\n",
    "3. BMI: 당뇨병의 대표적인 원인\n",
    "\n",
    "4. Smoker: 흡연이 당뇨의 원인은 아니다. 따라서 당뇨 예측에는 고려하지 않는다.\n",
    "\n",
    "5. Stroke: 당뇨병 대표 합병증. 뇌졸중을 겪고나서 당뇨병임을 아는 경우도 있다고 한다.\n",
    "\n",
    "6. HeartDiseaseorAttack: Stroke와 마찬가지.\n",
    "\n",
    "7. PhysActivity: 신체적 활동은 당뇨병 예방 및 치료에 가장 중요한 요인 중 하나.\n",
    "\n",
    "8. Fruits: 탄수화물 섭취가 많으면 당뇨에 걸릴 가능성이 높아진다.\n",
    "\n",
    "9. Age: 중년 이후 당뇨병에 걸릴 확률이 높아진다."
   ]
  },
  {
   "cell_type": "markdown",
   "metadata": {},
   "source": []
  },
  {
   "cell_type": "code",
   "execution_count": 6,
   "metadata": {},
   "outputs": [
    {
     "data": {
      "text/html": [
       "<div>\n",
       "<style scoped>\n",
       "    .dataframe tbody tr th:only-of-type {\n",
       "        vertical-align: middle;\n",
       "    }\n",
       "\n",
       "    .dataframe tbody tr th {\n",
       "        vertical-align: top;\n",
       "    }\n",
       "\n",
       "    .dataframe thead th {\n",
       "        text-align: right;\n",
       "    }\n",
       "</style>\n",
       "<table border=\"1\" class=\"dataframe\">\n",
       "  <thead>\n",
       "    <tr style=\"text-align: right;\">\n",
       "      <th></th>\n",
       "      <th>Diabetes_012</th>\n",
       "      <th>Age</th>\n",
       "      <th>BMI</th>\n",
       "      <th>HighBP</th>\n",
       "      <th>HighChol</th>\n",
       "      <th>Stroke</th>\n",
       "      <th>HeartDiseaseorAttack</th>\n",
       "      <th>PhysActivity</th>\n",
       "      <th>Fruits</th>\n",
       "    </tr>\n",
       "  </thead>\n",
       "  <tbody>\n",
       "    <tr>\n",
       "      <th>0</th>\n",
       "      <td>0.0</td>\n",
       "      <td>60.0</td>\n",
       "      <td>40.0</td>\n",
       "      <td>1.0</td>\n",
       "      <td>1.0</td>\n",
       "      <td>0.0</td>\n",
       "      <td>0.0</td>\n",
       "      <td>0.0</td>\n",
       "      <td>0.0</td>\n",
       "    </tr>\n",
       "    <tr>\n",
       "      <th>1</th>\n",
       "      <td>0.0</td>\n",
       "      <td>50.0</td>\n",
       "      <td>25.0</td>\n",
       "      <td>0.0</td>\n",
       "      <td>0.0</td>\n",
       "      <td>0.0</td>\n",
       "      <td>0.0</td>\n",
       "      <td>1.0</td>\n",
       "      <td>0.0</td>\n",
       "    </tr>\n",
       "    <tr>\n",
       "      <th>2</th>\n",
       "      <td>0.0</td>\n",
       "      <td>60.0</td>\n",
       "      <td>28.0</td>\n",
       "      <td>1.0</td>\n",
       "      <td>1.0</td>\n",
       "      <td>0.0</td>\n",
       "      <td>0.0</td>\n",
       "      <td>0.0</td>\n",
       "      <td>1.0</td>\n",
       "    </tr>\n",
       "    <tr>\n",
       "      <th>3</th>\n",
       "      <td>0.0</td>\n",
       "      <td>70.0</td>\n",
       "      <td>27.0</td>\n",
       "      <td>1.0</td>\n",
       "      <td>0.0</td>\n",
       "      <td>0.0</td>\n",
       "      <td>0.0</td>\n",
       "      <td>1.0</td>\n",
       "      <td>1.0</td>\n",
       "    </tr>\n",
       "    <tr>\n",
       "      <th>4</th>\n",
       "      <td>0.0</td>\n",
       "      <td>70.0</td>\n",
       "      <td>24.0</td>\n",
       "      <td>1.0</td>\n",
       "      <td>1.0</td>\n",
       "      <td>0.0</td>\n",
       "      <td>0.0</td>\n",
       "      <td>1.0</td>\n",
       "      <td>1.0</td>\n",
       "    </tr>\n",
       "    <tr>\n",
       "      <th>...</th>\n",
       "      <td>...</td>\n",
       "      <td>...</td>\n",
       "      <td>...</td>\n",
       "      <td>...</td>\n",
       "      <td>...</td>\n",
       "      <td>...</td>\n",
       "      <td>...</td>\n",
       "      <td>...</td>\n",
       "      <td>...</td>\n",
       "    </tr>\n",
       "    <tr>\n",
       "      <th>253675</th>\n",
       "      <td>0.0</td>\n",
       "      <td>40.0</td>\n",
       "      <td>45.0</td>\n",
       "      <td>1.0</td>\n",
       "      <td>1.0</td>\n",
       "      <td>0.0</td>\n",
       "      <td>0.0</td>\n",
       "      <td>0.0</td>\n",
       "      <td>1.0</td>\n",
       "    </tr>\n",
       "    <tr>\n",
       "      <th>253676</th>\n",
       "      <td>2.0</td>\n",
       "      <td>70.0</td>\n",
       "      <td>18.0</td>\n",
       "      <td>1.0</td>\n",
       "      <td>1.0</td>\n",
       "      <td>0.0</td>\n",
       "      <td>0.0</td>\n",
       "      <td>0.0</td>\n",
       "      <td>0.0</td>\n",
       "    </tr>\n",
       "    <tr>\n",
       "      <th>253677</th>\n",
       "      <td>0.0</td>\n",
       "      <td>25.0</td>\n",
       "      <td>28.0</td>\n",
       "      <td>0.0</td>\n",
       "      <td>0.0</td>\n",
       "      <td>0.0</td>\n",
       "      <td>0.0</td>\n",
       "      <td>1.0</td>\n",
       "      <td>1.0</td>\n",
       "    </tr>\n",
       "    <tr>\n",
       "      <th>253678</th>\n",
       "      <td>0.0</td>\n",
       "      <td>50.0</td>\n",
       "      <td>23.0</td>\n",
       "      <td>1.0</td>\n",
       "      <td>0.0</td>\n",
       "      <td>0.0</td>\n",
       "      <td>0.0</td>\n",
       "      <td>0.0</td>\n",
       "      <td>1.0</td>\n",
       "    </tr>\n",
       "    <tr>\n",
       "      <th>253679</th>\n",
       "      <td>2.0</td>\n",
       "      <td>60.0</td>\n",
       "      <td>25.0</td>\n",
       "      <td>1.0</td>\n",
       "      <td>1.0</td>\n",
       "      <td>0.0</td>\n",
       "      <td>1.0</td>\n",
       "      <td>1.0</td>\n",
       "      <td>1.0</td>\n",
       "    </tr>\n",
       "  </tbody>\n",
       "</table>\n",
       "<p>253680 rows × 9 columns</p>\n",
       "</div>"
      ],
      "text/plain": [
       "        Diabetes_012   Age   BMI  HighBP  HighChol  Stroke  \\\n",
       "0                0.0  60.0  40.0     1.0       1.0     0.0   \n",
       "1                0.0  50.0  25.0     0.0       0.0     0.0   \n",
       "2                0.0  60.0  28.0     1.0       1.0     0.0   \n",
       "3                0.0  70.0  27.0     1.0       0.0     0.0   \n",
       "4                0.0  70.0  24.0     1.0       1.0     0.0   \n",
       "...              ...   ...   ...     ...       ...     ...   \n",
       "253675           0.0  40.0  45.0     1.0       1.0     0.0   \n",
       "253676           2.0  70.0  18.0     1.0       1.0     0.0   \n",
       "253677           0.0  25.0  28.0     0.0       0.0     0.0   \n",
       "253678           0.0  50.0  23.0     1.0       0.0     0.0   \n",
       "253679           2.0  60.0  25.0     1.0       1.0     0.0   \n",
       "\n",
       "        HeartDiseaseorAttack  PhysActivity  Fruits  \n",
       "0                        0.0           0.0     0.0  \n",
       "1                        0.0           1.0     0.0  \n",
       "2                        0.0           0.0     1.0  \n",
       "3                        0.0           1.0     1.0  \n",
       "4                        0.0           1.0     1.0  \n",
       "...                      ...           ...     ...  \n",
       "253675                   0.0           0.0     1.0  \n",
       "253676                   0.0           0.0     0.0  \n",
       "253677                   0.0           1.0     1.0  \n",
       "253678                   0.0           0.0     1.0  \n",
       "253679                   1.0           1.0     1.0  \n",
       "\n",
       "[253680 rows x 9 columns]"
      ]
     },
     "execution_count": 6,
     "metadata": {},
     "output_type": "execute_result"
    }
   ],
   "source": [
    "df1 = df[['Diabetes_012', 'Age', 'BMI', 'HighBP', 'HighChol', 'Stroke', 'HeartDiseaseorAttack', 'PhysActivity', 'Fruits']]\n",
    "df1"
   ]
  },
  {
   "cell_type": "code",
   "execution_count": 7,
   "metadata": {},
   "outputs": [],
   "source": [
    "train_data = df1.sample(frac=0.8, random_state=123)\n",
    "temp_data = df1.drop(train_data.index)\n",
    "test_data = temp_data.sample(frac=0.5, random_state=123)\n",
    "valid_data = temp_data.drop(test_data.index)"
   ]
  },
  {
   "cell_type": "code",
   "execution_count": 8,
   "metadata": {},
   "outputs": [
    {
     "data": {
      "text/plain": [
       "((202944, 9), (25368, 9), (25368, 9))"
      ]
     },
     "execution_count": 8,
     "metadata": {},
     "output_type": "execute_result"
    }
   ],
   "source": [
    "train_data.shape, test_data.shape, valid_data.shape"
   ]
  },
  {
   "cell_type": "code",
   "execution_count": 9,
   "metadata": {},
   "outputs": [
    {
     "data": {
      "text/plain": [
       "(array([[50., 33.,  0., ...,  0.,  0.,  0.],\n",
       "        [50., 24.,  0., ...,  0.,  1.,  1.],\n",
       "        [60., 39.,  0., ...,  0.,  1.,  0.],\n",
       "        ...,\n",
       "        [70., 25.,  1., ...,  1.,  1.,  0.],\n",
       "        [65., 35.,  1., ...,  0.,  1.,  1.],\n",
       "        [60., 25.,  0., ...,  0.,  1.,  0.]], dtype=float32),\n",
       " array([[0.],\n",
       "        [0.],\n",
       "        [0.],\n",
       "        ...,\n",
       "        [0.],\n",
       "        [0.],\n",
       "        [0.]], dtype=float32))"
      ]
     },
     "execution_count": 9,
     "metadata": {},
     "output_type": "execute_result"
    }
   ],
   "source": [
    "x_train = train_data[['Age', 'BMI', 'HighBP', 'HighChol', 'Stroke', 'HeartDiseaseorAttack', 'PhysActivity', 'Fruits']].to_numpy().astype(np.float32)\n",
    "y_train = train_data['Diabetes_012'].to_numpy().astype(np.float32).reshape(-1,1)\n",
    "x_train, y_train"
   ]
  },
  {
   "cell_type": "code",
   "execution_count": 10,
   "metadata": {},
   "outputs": [
    {
     "data": {
      "text/plain": [
       "((25368, 8), (25368, 1))"
      ]
     },
     "execution_count": 10,
     "metadata": {},
     "output_type": "execute_result"
    }
   ],
   "source": [
    "x_test = test_data[['Age', 'BMI', 'HighBP', 'HighChol', 'Stroke', 'HeartDiseaseorAttack', 'PhysActivity', 'Fruits']].to_numpy().astype(np.float32)\n",
    "y_test = test_data['Diabetes_012'].to_numpy().astype(np.float32).reshape(-1,1)\n",
    "x_test.shape, y_test.shape"
   ]
  },
  {
   "cell_type": "code",
   "execution_count": 11,
   "metadata": {},
   "outputs": [
    {
     "data": {
      "text/plain": [
       "((25368, 8), (25368, 1))"
      ]
     },
     "execution_count": 11,
     "metadata": {},
     "output_type": "execute_result"
    }
   ],
   "source": [
    "x_valid = valid_data[['Age', 'BMI', 'HighBP', 'HighChol', 'Stroke', 'HeartDiseaseorAttack', 'PhysActivity', 'Fruits']].to_numpy().astype(np.float32)\n",
    "y_valid = valid_data['Diabetes_012'].to_numpy().astype(np.float32).reshape(-1,1)\n",
    "x_valid.shape, y_valid.shape"
   ]
  },
  {
   "cell_type": "code",
   "execution_count": 12,
   "metadata": {},
   "outputs": [],
   "source": [
    "# W = tf.Variable(tf.random.normal((x_train.shape[1], y_train.shape[1])), dtype=tf.float32)\n",
    "# b = tf.Variable(tf.random.normal((y_train.shape[1],)), dtype= tf.float32)\n",
    "\n",
    "# hypothesis = tf.matmul(x_train, W) + b\n",
    "\n",
    "\n",
    "# def Cost():\n",
    "#     return tf.reduce_mean(tf.square(hypothesis - y_train))\n",
    "# epochs = 300\n",
    "# learning_rate = 0.5\n",
    "# optimizer = tf.keras.optimizers.SGD(learning_rate=learning_rate)\n",
    "\n",
    "# training_idx = np.arange(0, epochs+1, 1)\n",
    "# cost_graph = np.zeros(epochs+1)\n",
    "\n",
    "# for cnt in range(0, epochs+1):\n",
    "#     cost_graph[cnt] = Cost()\n",
    "#     if cnt % (epochs//20) == 0:\n",
    "# #         print(\"[{:>6}] cost={:>6.4}, W = [[{:>7.4} {:>7.4}] [{:>7.4} {:>7.4}]], B = [{:>7.4}{:>7.4}]\".format(cnt, cost_graph[cnt], W[0,0], W[0,1], W[1,0],W[1,1], B[0],B[1]))\n",
    "#         print(\"[{:>6}] cost={:>6.4}, W = {:>7.4}, B = {:>7.4}]\".format(cnt, cost_graph[cnt], W[0,0], b[0]))\n",
    "    \n",
    "#     optimizer.minimize(Cost,[W, b])  "
   ]
  },
  {
   "cell_type": "code",
   "execution_count": 14,
   "metadata": {},
   "outputs": [
    {
     "ename": "ValueError",
     "evalue": "Unknown activation function: sotfmax. Please ensure this object is passed to the `custom_objects` argument. See https://www.tensorflow.org/guide/keras/save_and_serialize#registering_the_custom_object for details.",
     "output_type": "error",
     "traceback": [
      "\u001b[1;31m---------------------------------------------------------------------------\u001b[0m",
      "\u001b[1;31mValueError\u001b[0m                                Traceback (most recent call last)",
      "Cell \u001b[1;32mIn[14], line 4\u001b[0m\n\u001b[0;32m      2\u001b[0m model\u001b[39m.\u001b[39madd(tf\u001b[39m.\u001b[39mkeras\u001b[39m.\u001b[39mlayers\u001b[39m.\u001b[39mDense(\u001b[39m2\u001b[39m, activation\u001b[39m=\u001b[39m\u001b[39m\"\u001b[39m\u001b[39mrelu\u001b[39m\u001b[39m\"\u001b[39m))\n\u001b[0;32m      3\u001b[0m model\u001b[39m.\u001b[39madd(tf\u001b[39m.\u001b[39mkeras\u001b[39m.\u001b[39mlayers\u001b[39m.\u001b[39mDense(\u001b[39m3\u001b[39m, activation\u001b[39m=\u001b[39m\u001b[39m\"\u001b[39m\u001b[39mrelu\u001b[39m\u001b[39m\"\u001b[39m))\n\u001b[1;32m----> 4\u001b[0m model\u001b[39m.\u001b[39madd(tf\u001b[39m.\u001b[39;49mkeras\u001b[39m.\u001b[39;49mlayers\u001b[39m.\u001b[39;49mDense(\u001b[39m4\u001b[39;49m, activation\u001b[39m=\u001b[39;49m\u001b[39m'\u001b[39;49m\u001b[39msotfmax\u001b[39;49m\u001b[39m'\u001b[39;49m))\n\u001b[0;32m      6\u001b[0m model\u001b[39m.\u001b[39mcompile(loss\u001b[39m=\u001b[39m\u001b[39m'\u001b[39m\u001b[39msparse_categorical_crossentropy\u001b[39m\u001b[39m'\u001b[39m,\n\u001b[0;32m      7\u001b[0m               optimizer\u001b[39m=\u001b[39m\u001b[39m'\u001b[39m\u001b[39mAdam\u001b[39m\u001b[39m'\u001b[39m,\n\u001b[0;32m      8\u001b[0m               metrics\u001b[39m=\u001b[39m[\u001b[39m'\u001b[39m\u001b[39maccuracy\u001b[39m\u001b[39m'\u001b[39m])\n",
      "File \u001b[1;32mc:\\Users\\Chaddol\\anaconda3\\envs\\chaddol\\lib\\site-packages\\keras\\layers\\core.py:1154\u001b[0m, in \u001b[0;36mDense.__init__\u001b[1;34m(self, units, activation, use_bias, kernel_initializer, bias_initializer, kernel_regularizer, bias_regularizer, activity_regularizer, kernel_constraint, bias_constraint, **kwargs)\u001b[0m\n\u001b[0;32m   1151\u001b[0m \u001b[39mif\u001b[39;00m \u001b[39mself\u001b[39m\u001b[39m.\u001b[39munits \u001b[39m<\u001b[39m \u001b[39m0\u001b[39m:\n\u001b[0;32m   1152\u001b[0m   \u001b[39mraise\u001b[39;00m \u001b[39mValueError\u001b[39;00m(\u001b[39mf\u001b[39m\u001b[39m'\u001b[39m\u001b[39mReceived an invalid value for `units`, expected \u001b[39m\u001b[39m'\u001b[39m\n\u001b[0;32m   1153\u001b[0m                    \u001b[39mf\u001b[39m\u001b[39m'\u001b[39m\u001b[39ma positive integer, got \u001b[39m\u001b[39m{\u001b[39;00munits\u001b[39m}\u001b[39;00m\u001b[39m.\u001b[39m\u001b[39m'\u001b[39m)\n\u001b[1;32m-> 1154\u001b[0m \u001b[39mself\u001b[39m\u001b[39m.\u001b[39mactivation \u001b[39m=\u001b[39m activations\u001b[39m.\u001b[39;49mget(activation)\n\u001b[0;32m   1155\u001b[0m \u001b[39mself\u001b[39m\u001b[39m.\u001b[39muse_bias \u001b[39m=\u001b[39m use_bias\n\u001b[0;32m   1156\u001b[0m \u001b[39mself\u001b[39m\u001b[39m.\u001b[39mkernel_initializer \u001b[39m=\u001b[39m initializers\u001b[39m.\u001b[39mget(kernel_initializer)\n",
      "File \u001b[1;32mc:\\Users\\Chaddol\\anaconda3\\envs\\chaddol\\lib\\site-packages\\tensorflow\\python\\util\\dispatch.py:206\u001b[0m, in \u001b[0;36madd_dispatch_support.<locals>.wrapper\u001b[1;34m(*args, **kwargs)\u001b[0m\n\u001b[0;32m    204\u001b[0m \u001b[39m\u001b[39m\u001b[39m\"\"\"Call target, and fall back on dispatchers if there is a TypeError.\"\"\"\u001b[39;00m\n\u001b[0;32m    205\u001b[0m \u001b[39mtry\u001b[39;00m:\n\u001b[1;32m--> 206\u001b[0m   \u001b[39mreturn\u001b[39;00m target(\u001b[39m*\u001b[39margs, \u001b[39m*\u001b[39m\u001b[39m*\u001b[39mkwargs)\n\u001b[0;32m    207\u001b[0m \u001b[39mexcept\u001b[39;00m (\u001b[39mTypeError\u001b[39;00m, \u001b[39mValueError\u001b[39;00m):\n\u001b[0;32m    208\u001b[0m   \u001b[39m# Note: convert_to_eager_tensor currently raises a ValueError, not a\u001b[39;00m\n\u001b[0;32m    209\u001b[0m   \u001b[39m# TypeError, when given unexpected types.  So we need to catch both.\u001b[39;00m\n\u001b[0;32m    210\u001b[0m   result \u001b[39m=\u001b[39m dispatch(wrapper, args, kwargs)\n",
      "File \u001b[1;32mc:\\Users\\Chaddol\\anaconda3\\envs\\chaddol\\lib\\site-packages\\keras\\activations.py:596\u001b[0m, in \u001b[0;36mget\u001b[1;34m(identifier)\u001b[0m\n\u001b[0;32m    594\u001b[0m \u001b[39mif\u001b[39;00m \u001b[39misinstance\u001b[39m(identifier, \u001b[39mstr\u001b[39m):\n\u001b[0;32m    595\u001b[0m   identifier \u001b[39m=\u001b[39m \u001b[39mstr\u001b[39m(identifier)\n\u001b[1;32m--> 596\u001b[0m   \u001b[39mreturn\u001b[39;00m deserialize(identifier)\n\u001b[0;32m    597\u001b[0m \u001b[39melif\u001b[39;00m \u001b[39misinstance\u001b[39m(identifier, \u001b[39mdict\u001b[39m):\n\u001b[0;32m    598\u001b[0m   \u001b[39mreturn\u001b[39;00m deserialize(identifier)\n",
      "File \u001b[1;32mc:\\Users\\Chaddol\\anaconda3\\envs\\chaddol\\lib\\site-packages\\tensorflow\\python\\util\\dispatch.py:206\u001b[0m, in \u001b[0;36madd_dispatch_support.<locals>.wrapper\u001b[1;34m(*args, **kwargs)\u001b[0m\n\u001b[0;32m    204\u001b[0m \u001b[39m\u001b[39m\u001b[39m\"\"\"Call target, and fall back on dispatchers if there is a TypeError.\"\"\"\u001b[39;00m\n\u001b[0;32m    205\u001b[0m \u001b[39mtry\u001b[39;00m:\n\u001b[1;32m--> 206\u001b[0m   \u001b[39mreturn\u001b[39;00m target(\u001b[39m*\u001b[39margs, \u001b[39m*\u001b[39m\u001b[39m*\u001b[39mkwargs)\n\u001b[0;32m    207\u001b[0m \u001b[39mexcept\u001b[39;00m (\u001b[39mTypeError\u001b[39;00m, \u001b[39mValueError\u001b[39;00m):\n\u001b[0;32m    208\u001b[0m   \u001b[39m# Note: convert_to_eager_tensor currently raises a ValueError, not a\u001b[39;00m\n\u001b[0;32m    209\u001b[0m   \u001b[39m# TypeError, when given unexpected types.  So we need to catch both.\u001b[39;00m\n\u001b[0;32m    210\u001b[0m   result \u001b[39m=\u001b[39m dispatch(wrapper, args, kwargs)\n",
      "File \u001b[1;32mc:\\Users\\Chaddol\\anaconda3\\envs\\chaddol\\lib\\site-packages\\keras\\activations.py:555\u001b[0m, in \u001b[0;36mdeserialize\u001b[1;34m(name, custom_objects)\u001b[0m\n\u001b[0;32m    552\u001b[0m   \u001b[39mif\u001b[39;00m key \u001b[39mnot\u001b[39;00m \u001b[39min\u001b[39;00m globs:\n\u001b[0;32m    553\u001b[0m     globs[key] \u001b[39m=\u001b[39m val\n\u001b[1;32m--> 555\u001b[0m \u001b[39mreturn\u001b[39;00m deserialize_keras_object(\n\u001b[0;32m    556\u001b[0m     name,\n\u001b[0;32m    557\u001b[0m     module_objects\u001b[39m=\u001b[39;49mglobs,\n\u001b[0;32m    558\u001b[0m     custom_objects\u001b[39m=\u001b[39;49mcustom_objects,\n\u001b[0;32m    559\u001b[0m     printable_module_name\u001b[39m=\u001b[39;49m\u001b[39m'\u001b[39;49m\u001b[39mactivation function\u001b[39;49m\u001b[39m'\u001b[39;49m)\n",
      "File \u001b[1;32mc:\\Users\\Chaddol\\anaconda3\\envs\\chaddol\\lib\\site-packages\\keras\\utils\\generic_utils.py:704\u001b[0m, in \u001b[0;36mdeserialize_keras_object\u001b[1;34m(identifier, module_objects, custom_objects, printable_module_name)\u001b[0m\n\u001b[0;32m    702\u001b[0m   obj \u001b[39m=\u001b[39m module_objects\u001b[39m.\u001b[39mget(object_name)\n\u001b[0;32m    703\u001b[0m   \u001b[39mif\u001b[39;00m obj \u001b[39mis\u001b[39;00m \u001b[39mNone\u001b[39;00m:\n\u001b[1;32m--> 704\u001b[0m     \u001b[39mraise\u001b[39;00m \u001b[39mValueError\u001b[39;00m(\n\u001b[0;32m    705\u001b[0m         \u001b[39m'\u001b[39m\u001b[39mUnknown \u001b[39m\u001b[39m{}\u001b[39;00m\u001b[39m: \u001b[39m\u001b[39m{}\u001b[39;00m\u001b[39m. Please ensure this object is \u001b[39m\u001b[39m'\u001b[39m\n\u001b[0;32m    706\u001b[0m         \u001b[39m'\u001b[39m\u001b[39mpassed to the `custom_objects` argument. See \u001b[39m\u001b[39m'\u001b[39m\n\u001b[0;32m    707\u001b[0m         \u001b[39m'\u001b[39m\u001b[39mhttps://www.tensorflow.org/guide/keras/save_and_serialize\u001b[39m\u001b[39m'\u001b[39m\n\u001b[0;32m    708\u001b[0m         \u001b[39m'\u001b[39m\u001b[39m#registering_the_custom_object for details.\u001b[39m\u001b[39m'\u001b[39m\n\u001b[0;32m    709\u001b[0m         \u001b[39m.\u001b[39mformat(printable_module_name, object_name))\n\u001b[0;32m    711\u001b[0m \u001b[39m# Classes passed by name are instantiated with no args, functions are\u001b[39;00m\n\u001b[0;32m    712\u001b[0m \u001b[39m# returned as-is.\u001b[39;00m\n\u001b[0;32m    713\u001b[0m \u001b[39mif\u001b[39;00m tf_inspect\u001b[39m.\u001b[39misclass(obj):\n",
      "\u001b[1;31mValueError\u001b[0m: Unknown activation function: sotfmax. Please ensure this object is passed to the `custom_objects` argument. See https://www.tensorflow.org/guide/keras/save_and_serialize#registering_the_custom_object for details."
     ]
    }
   ],
   "source": [
    "model = tf.keras.Sequential()\n",
    "model.add(tf.keras.layers.Dense(2, activation=\"relu\"))\n",
    "model.add(tf.keras.layers.Dense(3, activation=\"relu\"))\n",
    "model.add(tf.keras.layers.Dense(4, activation='sotfmax'))\n",
    "\n",
    "model.compile(loss='sparse_categorical_crossentropy',\n",
    "              optimizer='Adam',\n",
    "              metrics=['accuracy'])"
   ]
  },
  {
   "cell_type": "code",
   "execution_count": null,
   "metadata": {},
   "outputs": [],
   "source": []
  }
 ],
 "metadata": {
  "kernelspec": {
   "display_name": "chaddol",
   "language": "python",
   "name": "python3"
  },
  "language_info": {
   "codemirror_mode": {
    "name": "ipython",
    "version": 3
   },
   "file_extension": ".py",
   "mimetype": "text/x-python",
   "name": "python",
   "nbconvert_exporter": "python",
   "pygments_lexer": "ipython3",
   "version": "3.9.15"
  },
  "orig_nbformat": 4,
  "vscode": {
   "interpreter": {
    "hash": "a687caacb10a844a55fefd3b5f8dd537474e79b4cd9a59a4e226ce1d72456a88"
   }
  }
 },
 "nbformat": 4,
 "nbformat_minor": 2
}
