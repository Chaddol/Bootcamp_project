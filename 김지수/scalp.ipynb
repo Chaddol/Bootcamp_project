{
 "cells": [
  {
   "cell_type": "code",
   "execution_count": 1,
   "metadata": {},
   "outputs": [],
   "source": [
    "import glob\n",
    "import numpy as np\n",
    "import tensorflow as tf\n",
    "import cv2\n",
    "import json"
   ]
  },
  {
   "cell_type": "code",
   "execution_count": 2,
   "metadata": {},
   "outputs": [],
   "source": [
    "train_dir = 'Training'\n",
    "train_json = glob.glob(train_dir + '/*.json')"
   ]
  },
  {
   "cell_type": "code",
   "execution_count": 3,
   "metadata": {},
   "outputs": [
    {
     "data": {
      "text/plain": [
       "72342"
      ]
     },
     "execution_count": 3,
     "metadata": {},
     "output_type": "execute_result"
    }
   ],
   "source": [
    "len(train_json)"
   ]
  },
  {
   "attachments": {},
   "cell_type": "markdown",
   "metadata": {},
   "source": [
    "Val 1 미세각질\n",
    "Val 2 피지과다\n",
    "Val 3 모낭사이홍반\n",
    "Val 4 모낭홍반/농포\n",
    "Val 5 비듬\n",
    "Val 6 탈모\n",
    "\n",
    "각각 4가지 상태가 있는데, 이를 모두 고려한다면 4096 가지의 classification을 진행해야함. 따라서 각 상태에 대해서 증상 유, 무만 고려할 예정."
   ]
  },
  {
   "cell_type": "code",
   "execution_count": 19,
   "metadata": {},
   "outputs": [
    {
     "data": {
      "text/plain": [
       "{'image_id': '0013_A2LEBJJDE00060O_1602578303771_2',\n",
       " 'image_file_name': '0013_A2LEBJJDE00060O_1602578303771_2_TH.jpg',\n",
       " 'value_1': '0',\n",
       " 'value_2': '1',\n",
       " 'value_3': '2',\n",
       " 'value_4': '0',\n",
       " 'value_5': '1',\n",
       " 'value_6': '0'}"
      ]
     },
     "execution_count": 19,
     "metadata": {},
     "output_type": "execute_result"
    }
   ],
   "source": [
    "status = ['value_1', 'value_2', 'value_3', 'value_4', 'value_5', 'value_6']\n",
    "with open(train_json[0]) as j:\n",
    "    example = json.load(j)\n",
    "    \n",
    "example"
   ]
  },
  {
   "cell_type": "code",
   "execution_count": 14,
   "metadata": {},
   "outputs": [],
   "source": [
    "x_train_1, y_train_1 = [], []\n",
    "x_train_2, y_train_2 = [], []\n",
    "x_train_3, y_train_3 = [], []\n",
    "x_train_4, y_train_4 = [], []\n",
    "x_train_5, y_train_5 = [], []\n",
    "x_train_6, y_train_6 = [], []\n",
    "# for name in train_json[10:]:\n",
    "#     with open(name, 'r',encoding='utf-8') as j:\n",
    "#         data = json.load(j)\n",
    "#         f_name = data['image_file_name']\n",
    "#         # print(train_dir+ '/' + f_name)\n",
    "#         img = cv2.imread(train_dir+ '/' + f_name, cv2.IMREAD_COLOR)\n",
    "#         # print(img)\n",
    "#         img = cv2.cvtColor(img, cv2.COLOR_BGR2RGB)\n",
    "#         img = img[80:560,:]\n",
    "#         img = cv2.resize(img, (64,64))\n",
    "#         cv2.imwrite('Training/'+f_name,img)\n",
    "        \n",
    "        "
   ]
  },
  {
   "cell_type": "code",
   "execution_count": 40,
   "metadata": {},
   "outputs": [],
   "source": [
    "x_train, y_train = [],[[],[],[],[],[],[],[]]\n",
    "for name in train_json[:20000]:\n",
    "    with open(name, 'r',encoding='utf-8') as j:\n",
    "        data = json.load(j)\n",
    "        f_name = data['image_file_name']\n",
    "        img = cv2.imread(train_dir+ '/' + f_name, cv2.IMREAD_COLOR)\n",
    "        img = cv2.cvtColor(img, cv2.COLOR_BGR2RGB)\n",
    "        for idx, n in enumerate(status):\n",
    "            i = idx + 1\n",
    " \n",
    "            if data[n] == '0':\n",
    "                y_train[i].append(0)\n",
    "            else:\n",
    "                y_train[i].append(1)\n",
    "        x_train.append(img)\n",
    "        \n"
   ]
  },
  {
   "cell_type": "code",
   "execution_count": 41,
   "metadata": {},
   "outputs": [],
   "source": [
    "dump, y_train_1, y_train_2, y_train_3,y_train_4,y_train_5,y_train_6 = y_train"
   ]
  },
  {
   "cell_type": "code",
   "execution_count": 42,
   "metadata": {},
   "outputs": [
    {
     "data": {
      "text/plain": [
       "20000"
      ]
     },
     "execution_count": 42,
     "metadata": {},
     "output_type": "execute_result"
    }
   ],
   "source": [
    "len(y_train_1)"
   ]
  },
  {
   "cell_type": "code",
   "execution_count": 43,
   "metadata": {},
   "outputs": [],
   "source": [
    "x_copy = x_train"
   ]
  },
  {
   "cell_type": "code",
   "execution_count": 44,
   "metadata": {},
   "outputs": [],
   "source": [
    "x_train = np.array(x_train)\n",
    "x_train = x_train/255"
   ]
  },
  {
   "cell_type": "code",
   "execution_count": 45,
   "metadata": {},
   "outputs": [],
   "source": [
    "y_train_1 = np.array(y_train_1).reshape(-1,1)\n",
    "y_train_2 = np.array(y_train_2).reshape(-1,1)\n",
    "y_train_3 = np.array(y_train_3).reshape(-1,1)\n",
    "y_train_4 = np.array(y_train_4).reshape(-1,1)\n",
    "y_train_5 = np.array(y_train_5).reshape(-1,1)\n",
    "y_train_6 = np.array(y_train_6).reshape(-1,1)"
   ]
  },
  {
   "cell_type": "code",
   "execution_count": null,
   "metadata": {},
   "outputs": [],
   "source": []
  }
 ],
 "metadata": {
  "kernelspec": {
   "display_name": "chaddol",
   "language": "python",
   "name": "python3"
  },
  "language_info": {
   "codemirror_mode": {
    "name": "ipython",
    "version": 3
   },
   "file_extension": ".py",
   "mimetype": "text/x-python",
   "name": "python",
   "nbconvert_exporter": "python",
   "pygments_lexer": "ipython3",
   "version": "3.9.15"
  },
  "orig_nbformat": 4,
  "vscode": {
   "interpreter": {
    "hash": "a687caacb10a844a55fefd3b5f8dd537474e79b4cd9a59a4e226ce1d72456a88"
   }
  }
 },
 "nbformat": 4,
 "nbformat_minor": 2
}
